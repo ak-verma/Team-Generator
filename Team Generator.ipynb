{
 "cells": [
  {
   "cell_type": "markdown",
   "metadata": {},
   "source": [
    "# Team Generator"
   ]
  },
  {
   "cell_type": "markdown",
   "metadata": {},
   "source": [
    "This is the list of top 10 batsmen and top 10 bowlers in the ICC ranking 2018. I made two teams with 5 players from each section. These players were randomly chosen and put into two different team."
   ]
  },
  {
   "cell_type": "code",
   "execution_count": 10,
   "metadata": {},
   "outputs": [
    {
     "name": "stdout",
     "output_type": "stream",
     "text": [
      "batsmen\n",
      " ['V.Kohli', 'A.B. de Villiers', 'D.A. Warne', 'J.E. Root', 'Babar Azam', 'Rohit Sharma', 'L.R.P.L. Taylor', 'Q. de Kock', 'F. du Plessis', 'K.S. Williamson'] \n",
      "\n",
      " bowlers\n",
      " ['Jasprit Bumrah', 'Rashid Khan', 'Josh Hazlewood', 'Hasan Ali', 'Trent Boult', 'Imran Tahir', 'Kagiso Rabada', 'Chris Woakes', 'Yuzvendra Chahal', 'Mitchell Starc'] \n",
      "\n",
      "\n",
      "teamA\n",
      " ['K.S. Williamson', 'J.E. Root', 'Q. de Kock', 'Rohit Sharma', 'D.A. Warne', 'Mitchell Starc', 'Hasan Ali', 'Trent Boult', 'Imran Tahir', 'Rashid Khan'] \n",
      "\n",
      "\n",
      "teamB\n",
      " ['V.Kohli', 'A.B. de Villiers', 'Babar Azam', 'L.R.P.L. Taylor', 'F. du Plessis', 'Jasprit Bumrah', 'Josh Hazlewood', 'Kagiso Rabada', 'Chris Woakes', 'Yuzvendra Chahal']\n"
     ]
    }
   ],
   "source": [
    "#making a list of batsmen and bowlers\n",
    "batsmen=['V.Kohli','A.B. de Villiers','D.A. Warne','J.E. Root','Babar Azam','Rohit Sharma','L.R.P.L. Taylor','Q. de Kock',\n",
    "         'F. du Plessis','K.S. Williamson']\n",
    "bowlers=['Jasprit Bumrah','Rashid Khan','Josh Hazlewood','Hasan Ali','Trent Boult','Imran Tahir','Kagiso Rabada',\n",
    "          'Chris Woakes','Yuzvendra Chahal','Mitchell Starc']\n",
    "print('batsmen\\n',batsmen,'\\n\\n','bowlers\\n',bowlers,'\\n\\n')\n",
    "#creating an empty list where the players will be stored\n",
    "teamA=[]\n",
    "teamB=[]\n",
    "#importing choice from random library that'll randomly pick\n",
    "from random import choice\n",
    "while len(batsmen)>5:\n",
    "    playerA=choice(batsmen)\n",
    "    teamA.append(playerA)\n",
    "    batsmen.remove(playerA)\n",
    "\n",
    "teamB=batsmen\n",
    "    \n",
    "    \n",
    "while len(bowlers)>5:\n",
    "    playerA=choice(bowlers)\n",
    "    teamA.append(playerA)\n",
    "    bowlers.remove(playerA)\n",
    "\n",
    "teamB=batsmen+bowlers\n",
    "    \n",
    "print('teamA\\n',teamA,'\\n\\n')\n",
    "print('teamB\\n',teamB)"
   ]
  },
  {
   "cell_type": "code",
   "execution_count": null,
   "metadata": {
    "collapsed": true
   },
   "outputs": [],
   "source": []
  }
 ],
 "metadata": {
  "kernelspec": {
   "display_name": "Python 3",
   "language": "python",
   "name": "python3"
  },
  "language_info": {
   "codemirror_mode": {
    "name": "ipython",
    "version": 3
   },
   "file_extension": ".py",
   "mimetype": "text/x-python",
   "name": "python",
   "nbconvert_exporter": "python",
   "pygments_lexer": "ipython3",
   "version": "3.6.3"
  }
 },
 "nbformat": 4,
 "nbformat_minor": 2
}
